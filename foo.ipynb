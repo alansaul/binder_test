{
 "cells": [
  {
   "cell_type": "code",
   "execution_count": null,
   "id": "be4d665d",
   "metadata": {},
   "outputs": [],
   "source": [
    "import trieste\n",
    "import tensorflow as tf\n",
    "import tensorflow_probability as tfp\n",
    "import numpy as np\n",
    "import sys"
   ]
  },
  {
   "cell_type": "code",
   "execution_count": null,
   "id": "b5f159a7",
   "metadata": {
    "lines_to_next_cell": 0
   },
   "outputs": [],
   "source": [
    "print(f\"Trieste version: {trieste.__version__}\")\n",
    "print(f\"tensorflow version: {tf.__version__}\")\n",
    "print(f\"numpy version: {np.__version__}\")\n",
    "print(f\"python version: {sys.version}\")"
   ]
  },
  {
   "cell_type": "code",
   "execution_count": null,
   "id": "823b5830",
   "metadata": {},
   "outputs": [],
   "source": [
    "\n",
    "print(tf.config.list_physical_devices())\n",
    "print(tf.convert_to_tensor([1.0]))"
   ]
  },
  {
   "cell_type": "code",
   "execution_count": null,
   "id": "46b66ca2",
   "metadata": {},
   "outputs": [],
   "source": [
    "\n",
    "print(tfp.distributions.Normal(loc=1.0, scale=3.0).sample())"
   ]
  },
  {
   "cell_type": "code",
   "execution_count": null,
   "id": "97d7ddf6",
   "metadata": {},
   "outputs": [],
   "source": []
  }
 ],
 "metadata": {
  "jupytext": {
   "cell_metadata_filter": "-all",
   "main_language": "python",
   "notebook_metadata_filter": "-all"
  }
 },
 "nbformat": 4,
 "nbformat_minor": 5
}
